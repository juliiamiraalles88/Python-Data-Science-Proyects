{
 "cells": [
  {
   "cell_type": "markdown",
   "id": "db484f7b",
   "metadata": {},
   "source": [
    "# Google and Apple Store Analysis"
   ]
  },
  {
   "cell_type": "markdown",
   "id": "45b1fcf1",
   "metadata": {},
   "source": [
    "Find out most downloaded genres + statistics in both stores"
   ]
  },
  {
   "cell_type": "markdown",
   "id": "4e0fe3c9",
   "metadata": {},
   "source": [
    "### Importing Datasets"
   ]
  },
  {
   "cell_type": "code",
   "execution_count": 1,
   "id": "9d0fefcb",
   "metadata": {},
   "outputs": [],
   "source": [
    "import csv\n",
    "\n",
    "ios = list(csv.reader(open(\"Datasets/DSAppleStore.csv\", encoding=\"utf8\")))\n",
    "android = list(csv.reader(open(\"Datasets/DSgoogleplaystore.csv\", encoding=\"utf8\")))\n"
   ]
  },
  {
   "cell_type": "code",
   "execution_count": 2,
   "id": "51d60e39",
   "metadata": {
    "scrolled": true
   },
   "outputs": [
    {
     "name": "stdout",
     "output_type": "stream",
     "text": [
      "10842\n",
      "7198\n"
     ]
    }
   ],
   "source": [
    "print(len(android))\n",
    "print(len(ios))"
   ]
  },
  {
   "cell_type": "markdown",
   "id": "9dcebe22",
   "metadata": {},
   "source": [
    "### Function to explore data"
   ]
  },
  {
   "cell_type": "code",
   "execution_count": 3,
   "id": "693789aa",
   "metadata": {},
   "outputs": [],
   "source": [
    "def explore_data(dataset, start, end, rows_and_columns=False):\n",
    "    dataset_slice = dataset[start:end]\n",
    "    for row in dataset_slice:\n",
    "        print(row)\n",
    "        print('\\n')\n",
    "        \n",
    "    if rows_and_columns:\n",
    "        print(\"Number of rows: \", len(dataset))\n",
    "        print(\"Number of columns: \", len(dataset[0]))"
   ]
  },
  {
   "cell_type": "code",
   "execution_count": 4,
   "id": "9f46ec83",
   "metadata": {
    "scrolled": false
   },
   "outputs": [
    {
     "name": "stdout",
     "output_type": "stream",
     "text": [
      "['App', 'Category', 'Rating', 'Reviews', 'Size', 'Installs', 'Type', 'Price', 'Content Rating', 'Genres', 'Last Updated', 'Current Ver', 'Android Ver']\n",
      "\n",
      "\n",
      "['Photo Editor & Candy Camera & Grid & ScrapBook', 'ART_AND_DESIGN', '4.1', '159', '19M', '10,000+', 'Free', '0', 'Everyone', 'Art & Design', 'January 7, 2018', '1.0.0', '4.0.3 and up']\n",
      "\n",
      "\n",
      "['id', 'track_name', 'size_bytes', 'currency', 'price', 'rating_count_tot', 'rating_count_ver', 'user_rating', 'user_rating_ver', 'ver', 'cont_rating', 'prime_genre', 'sup_devices.num', 'ipadSc_urls.num', 'lang.num', 'vpp_lic']\n",
      "\n",
      "\n",
      "['284882215', 'Facebook', '389879808', 'USD', '0.0', '2974676', '212', '3.5', '3.5', '95.0', '4+', 'Social Networking', '37', '1', '29', '1']\n",
      "\n",
      "\n",
      "10841\n",
      "7197\n"
     ]
    }
   ],
   "source": [
    "\n",
    "google = explore_data(android, 0, 2) \n",
    "apple = explore_data(ios, 0, 2)\n",
    "\n",
    "# Take header off\n",
    "\n",
    "android = android[1:]\n",
    "ios = ios[1:]\n",
    "print(len(android))\n",
    "print(len(ios))"
   ]
  },
  {
   "cell_type": "markdown",
   "id": "1af530fa",
   "metadata": {},
   "source": [
    "# Cleaning Data"
   ]
  },
  {
   "cell_type": "code",
   "execution_count": 5,
   "id": "25c7b236",
   "metadata": {},
   "outputs": [],
   "source": [
    "del android[10472]"
   ]
  },
  {
   "cell_type": "markdown",
   "id": "14a8d582",
   "metadata": {},
   "source": [
    "### Duplicates"
   ]
  },
  {
   "cell_type": "code",
   "execution_count": 6,
   "id": "5939283e",
   "metadata": {},
   "outputs": [],
   "source": [
    "\n",
    "def eliminate_dup(dataset, name_idx, rev_idx):\n",
    "    max_rev_idx = {} #Store index of max rev\n",
    "    max_rev = {}\n",
    "    ds = list(dataset)\n",
    "    counter = 0\n",
    "    for row in dataset:\n",
    "        app_name = row[name_idx]\n",
    "        \n",
    "        # If app not found before, add to max_rev with its nº of reviews\n",
    "        if app_name not in max_rev:\n",
    "            max_rev[app_name] = int(row[rev_idx])\n",
    "            counter +=1\n",
    "            max_rev_idx[app_name] = counter\n",
    "        # If nº reviews of new found app > previous, update max nº rev and delet row with smallest review\n",
    "        # stored app review < new app rev\n",
    "        elif(int(max_rev[app_name]) < int(row[rev_idx])):\n",
    "                max_rev[app_name] = row[rev_idx]\n",
    "                # Delete old app row\n",
    "                del ds[max_rev_idx[app_name]]\n",
    "                max_rev_idx[app_name] = counter\n",
    "        # stored app review > new app rev\n",
    "        else:\n",
    "            del ds[counter]\n",
    "        \n",
    "    return ds"
   ]
  },
  {
   "cell_type": "code",
   "execution_count": 7,
   "id": "959bb4d4",
   "metadata": {},
   "outputs": [
    {
     "name": "stdout",
     "output_type": "stream",
     "text": [
      "9659\n"
     ]
    }
   ],
   "source": [
    "android_clean = eliminate_dup(android,0, 3)\n",
    "print(len(android_clean))"
   ]
  },
  {
   "cell_type": "markdown",
   "id": "974b2d3c",
   "metadata": {},
   "source": [
    "### Eliminate non-English apps"
   ]
  },
  {
   "cell_type": "code",
   "execution_count": 8,
   "id": "7acbd9b7",
   "metadata": {
    "scrolled": true
   },
   "outputs": [
    {
     "name": "stdout",
     "output_type": "stream",
     "text": [
      "中国語 AQリスニング\n"
     ]
    }
   ],
   "source": [
    "print(android_clean[4412][0])"
   ]
  },
  {
   "cell_type": "code",
   "execution_count": 9,
   "id": "c2011d07",
   "metadata": {},
   "outputs": [],
   "source": [
    "def filter_english(dataset, name_idx=0):\n",
    "    ds = list(dataset)\n",
    "    for row in dataset:\n",
    "        counter = 0\n",
    "        #Check each character in each name\n",
    "        for char in row[name_idx]:\n",
    "            if(ord(char)>127):\n",
    "                counter += 1\n",
    "                if(counter>3):\n",
    "                    del ds[ds.index(row)]\n",
    "                    break\n",
    "    return ds\n",
    "    "
   ]
  },
  {
   "cell_type": "code",
   "execution_count": 10,
   "id": "7e8159f2",
   "metadata": {},
   "outputs": [
    {
     "name": "stdout",
     "output_type": "stream",
     "text": [
      "[['Instagram'], ['Docs To Go™ Free Office Suite'], ['Instachat 😜']]\n"
     ]
    }
   ],
   "source": [
    "# Check if function works\n",
    "lst = [['Instagram'], ['爱奇艺PPS -《欢乐颂2》电视剧热播'], ['Docs To Go™ Free Office Suite'], ['Instachat 😜']]\n",
    "print(filter_english(lst))\n"
   ]
  },
  {
   "cell_type": "code",
   "execution_count": 11,
   "id": "829a71fe",
   "metadata": {},
   "outputs": [
    {
     "name": "stdout",
     "output_type": "stream",
     "text": [
      "9659\n",
      "9614\n",
      "6183\n"
     ]
    }
   ],
   "source": [
    "print(len(android_clean))\n",
    "\n",
    "android_clean = filter_english(android_clean)\n",
    "print(len(android_clean))\n",
    "\n",
    "ios_clean = filter_english(ios, name_idx=1)\n",
    "print(len(ios_clean))"
   ]
  },
  {
   "cell_type": "markdown",
   "id": "d1e016a9",
   "metadata": {},
   "source": [
    "### Filter Free apps"
   ]
  },
  {
   "cell_type": "code",
   "execution_count": 12,
   "id": "b0e366e1",
   "metadata": {},
   "outputs": [],
   "source": [
    "def filter_free(dataset, key_price, type_idx):\n",
    "    ds = list(dataset)\n",
    "    for row in dataset:\n",
    "        if(row[type_idx] != key_price):\n",
    "            del ds[ds.index(row)]\n",
    "    return ds\n",
    "            "
   ]
  },
  {
   "cell_type": "code",
   "execution_count": 13,
   "id": "b99ba8cc",
   "metadata": {
    "scrolled": true
   },
   "outputs": [
    {
     "name": "stdout",
     "output_type": "stream",
     "text": [
      "9614\n",
      "8875\n",
      "6183\n",
      "3222\n"
     ]
    }
   ],
   "source": [
    "print(len(android_clean))\n",
    "android_clean = filter_free(android_clean, \"0\", 7)\n",
    "print(len(android_clean))\n",
    "\n",
    "print(len(ios_clean))\n",
    "ios_clean = filter_free(ios_clean, \"0.0\" , 4)\n",
    "print(len(ios_clean))"
   ]
  },
  {
   "cell_type": "markdown",
   "id": "1bb3202d",
   "metadata": {},
   "source": [
    "# Analyzing Data"
   ]
  },
  {
   "cell_type": "markdown",
   "id": "d284b67f",
   "metadata": {},
   "source": [
    "1. We want to find frequency for each genre in play store and apple store.\n"
   ]
  },
  {
   "cell_type": "markdown",
   "id": "59ef358b",
   "metadata": {},
   "source": [
    "### Frequency Play and App store"
   ]
  },
  {
   "cell_type": "code",
   "execution_count": 14,
   "id": "1f861946",
   "metadata": {},
   "outputs": [
    {
     "name": "stdout",
     "output_type": "stream",
     "text": [
      "['Photo Editor & Candy Camera & Grid & ScrapBook', 'ART_AND_DESIGN', '4.1', '159', '19M', '10,000+', 'Free', '0', 'Everyone', 'Art & Design', 'January 7, 2018', '1.0.0', '4.0.3 and up']\n",
      "['Coloring book moana', 'ART_AND_DESIGN', '3.9', '967', '14M', '500,000+', 'Free', '0', 'Everyone', 'Art & Design;Pretend Play', 'January 15, 2018', '2.0.0', '4.0.3 and up']\n",
      "\n",
      "\n",
      "['284882215', 'Facebook', '389879808', 'USD', '0.0', '2974676', '212', '3.5', '3.5', '95.0', '4+', 'Social Networking', '37', '1', '29', '1']\n",
      "['389801252', 'Instagram', '113954816', 'USD', '0.0', '2161558', '1289', '4.5', '4.0', '10.23', '12+', 'Photo & Video', '37', '0', '29', '1']\n"
     ]
    }
   ],
   "source": [
    "print(android[0])\n",
    "print(android[1])\n",
    "print('\\n')\n",
    "print(ios[0])\n",
    "print(ios[1])"
   ]
  },
  {
   "cell_type": "code",
   "execution_count": 15,
   "id": "21a797e4",
   "metadata": {},
   "outputs": [],
   "source": [
    "# Categories table\n",
    "android_categories = {}\n",
    "ios_categories = {}\n",
    "android_genre = {}\n",
    "\n",
    "# Categories total length\n",
    "ios_categories_length = {}\n",
    "android_categories_length = {}\n",
    "\n",
    "def category_table(dataset, category_idx, categories, categories_length = {}, rating_idx=0, install_idx=0):\n",
    "    for row in dataset:\n",
    "        category = row[category_idx].lower()\n",
    "        if category in categories:\n",
    "            categories[category] +=1\n",
    "        else:\n",
    "            categories[category] = 1\n",
    "            \n",
    "        # Total length of all genres (ios)\n",
    "        if(rating_idx != 0):\n",
    "            if category in categories_length:\n",
    "                categories_length[category] += float(row[rating_idx])\n",
    "            else:\n",
    "                categories_length[category] = float(row[rating_idx])\n",
    "        \n",
    "        # Total installs per genre (android)\n",
    "        elif install_idx !=0:\n",
    "            n_installs_str = row[install_idx]\n",
    "            installs = n_installs_str.replace('+', '').replace(',', '')\n",
    "            if category in categories_length:\n",
    "                categories_length[category] += float(installs)\n",
    "            else:\n",
    "                categories_length[category] = float(installs)\n",
    "    \n",
    "    # Sort data descending order\n",
    "    \n",
    "    return sorted(categories.items(), key = lambda x: x[1], reverse=True)\n",
    "            \n",
    "# android category_idx=1\n",
    "android_sorted = category_table(android_clean, 1, android_categories, categories_length = android_categories_length, install_idx=5)\n",
    "\n",
    "# android genre: category_idx=9\n",
    "android_genre_sorted = category_table(android_clean, 9, android_genre)\n",
    "\n",
    "# ios category_idx=11\n",
    "ios_sorted = category_table(ios_clean, 11, ios_categories, categories_length = ios_categories_length, rating_idx=5)\n"
   ]
  },
  {
   "cell_type": "markdown",
   "id": "a8573835",
   "metadata": {
    "heading_collapsed": true
   },
   "source": [
    "### Displaying Data"
   ]
  },
  {
   "cell_type": "code",
   "execution_count": 16,
   "id": "9dbcf0e0",
   "metadata": {
    "hidden": true
   },
   "outputs": [
    {
     "name": "stdout",
     "output_type": "stream",
     "text": [
      "23\n",
      "8875\n",
      "family: 1673\n",
      "game: 878\n",
      "tools: 747\n",
      "business: 406\n",
      "lifestyle: 344\n",
      "productivity: 344\n",
      "finance: 332\n",
      "medical: 308\n",
      "sports: 302\n",
      "personalization: 294\n",
      "communication: 292\n",
      "health_and_fitness: 266\n",
      "photography: 264\n",
      "news_and_magazines: 249\n",
      "social: 242\n",
      "travel_and_local: 205\n",
      "shopping: 194\n",
      "books_and_reference: 191\n",
      "dating: 162\n",
      "video_players: 160\n",
      "maps_and_navigation: 123\n",
      "food_and_drink: 114\n",
      "education: 105\n",
      "entertainment: 91\n",
      "auto_and_vehicles: 82\n",
      "libraries_and_demo: 82\n",
      "house_and_home: 75\n",
      "weather: 72\n",
      "parenting: 58\n",
      "art_and_design: 57\n",
      "comics: 55\n",
      "events: 55\n",
      "beauty: 53\n",
      "---------------\n",
      "family: 18.850704225352114\n",
      "game: 9.892957746478872\n",
      "tools: 8.416901408450704\n",
      "business: 4.574647887323944\n",
      "lifestyle: 3.876056338028169\n",
      "productivity: 3.876056338028169\n",
      "finance: 3.7408450704225356\n",
      "medical: 3.470422535211268\n",
      "sports: 3.4028169014084506\n",
      "personalization: 3.3126760563380286\n",
      "communication: 3.2901408450704226\n",
      "health_and_fitness: 2.9971830985915493\n",
      "photography: 2.9746478873239437\n",
      "news_and_magazines: 2.8056338028169012\n",
      "social: 2.7267605633802816\n",
      "travel_and_local: 2.3098591549295775\n",
      "shopping: 2.1859154929577467\n",
      "books_and_reference: 2.1521126760563383\n",
      "dating: 1.8253521126760561\n",
      "video_players: 1.8028169014084507\n",
      "maps_and_navigation: 1.3859154929577466\n",
      "food_and_drink: 1.2845070422535212\n",
      "education: 1.1830985915492958\n",
      "entertainment: 1.0253521126760563\n",
      "auto_and_vehicles: 0.923943661971831\n",
      "libraries_and_demo: 0.923943661971831\n",
      "house_and_home: 0.8450704225352111\n",
      "weather: 0.8112676056338028\n",
      "parenting: 0.6535211267605634\n",
      "art_and_design: 0.6422535211267606\n",
      "comics: 0.6197183098591549\n",
      "events: 0.6197183098591549\n",
      "beauty: 0.5971830985915494\n",
      "\n",
      "\n",
      "\n",
      "3222\n",
      "games: 1874\n",
      "entertainment: 254\n",
      "photo & video: 160\n",
      "education: 118\n",
      "social networking: 106\n",
      "shopping: 84\n",
      "utilities: 81\n",
      "sports: 69\n",
      "music: 66\n",
      "health & fitness: 65\n",
      "productivity: 56\n",
      "lifestyle: 51\n",
      "news: 43\n",
      "travel: 40\n",
      "finance: 36\n",
      "weather: 28\n",
      "food & drink: 26\n",
      "reference: 18\n",
      "business: 17\n",
      "book: 14\n",
      "navigation: 6\n",
      "medical: 6\n",
      "catalogs: 4\n",
      "---------------\n",
      "games: 58.16263190564867\n",
      "entertainment: 7.883302296710118\n",
      "photo & video: 4.9658597144630665\n",
      "education: 3.662321539416512\n",
      "social networking: 3.2898820608317814\n",
      "shopping: 2.60707635009311\n",
      "utilities: 2.5139664804469275\n",
      "sports: 2.1415270018621975\n",
      "music: 2.0484171322160147\n",
      "health & fitness: 2.0173805090006205\n",
      "productivity: 1.7380509000620732\n",
      "lifestyle: 1.5828677839851024\n",
      "news: 1.3345747982619491\n",
      "travel: 1.2414649286157666\n",
      "finance: 1.1173184357541899\n",
      "weather: 0.8690254500310366\n",
      "food & drink: 0.8069522036002483\n",
      "reference: 0.5586592178770949\n",
      "business: 0.5276225946617008\n",
      "book: 0.4345127250155183\n",
      "navigation: 0.186219739292365\n",
      "medical: 0.186219739292365\n",
      "catalogs: 0.12414649286157665\n",
      "\n",
      "\n",
      "\n",
      "8875\n",
      "tools: 746\n",
      "entertainment: 541\n",
      "education: 473\n",
      "business: 406\n",
      "productivity: 344\n",
      "lifestyle: 343\n",
      "finance: 332\n",
      "sports: 311\n",
      "medical: 308\n",
      "personalization: 294\n",
      "communication: 292\n",
      "action: 284\n",
      "health & fitness: 266\n",
      "photography: 264\n",
      "news & magazines: 249\n",
      "social: 242\n",
      "travel & local: 204\n",
      "shopping: 194\n",
      "books & reference: 191\n",
      "simulation: 177\n",
      "dating: 162\n",
      "casual: 161\n",
      "arcade: 159\n",
      "video players & editors: 158\n",
      "maps & navigation: 123\n",
      "food & drink: 114\n",
      "puzzle: 100\n",
      "racing: 90\n",
      "role playing: 86\n",
      "auto & vehicles: 82\n",
      "libraries & demo: 82\n",
      "strategy: 80\n",
      "house & home: 75\n",
      "weather: 72\n",
      "adventure: 58\n",
      "events: 55\n",
      "comics: 54\n",
      "beauty: 53\n",
      "art & design: 50\n",
      "parenting: 44\n",
      "card: 40\n",
      "casino: 38\n",
      "trivia: 37\n",
      "board: 34\n",
      "educational: 33\n",
      "educational;education: 32\n",
      "education;education: 29\n",
      "word: 23\n",
      "casual;pretend play: 21\n",
      "entertainment;music & video: 19\n",
      "music: 19\n",
      "racing;action & adventure: 17\n",
      "puzzle;brain games: 15\n",
      "casual;action & adventure: 14\n",
      "casual;brain games: 11\n",
      "arcade;action & adventure: 11\n",
      "action;action & adventure: 10\n",
      "simulation;action & adventure: 8\n",
      "educational;pretend play: 8\n",
      "board;brain games: 8\n",
      "art & design;creativity: 7\n",
      "entertainment;brain games: 7\n",
      "parenting;education: 7\n",
      "adventure;action & adventure: 6\n",
      "educational;brain games: 6\n",
      "parenting;music & video: 6\n",
      "education;music & video: 4\n",
      "education;action & adventure: 4\n",
      "education;pretend play: 4\n",
      "role playing;action & adventure: 4\n",
      "puzzle;action & adventure: 4\n",
      "role playing;pretend play: 4\n",
      "casual;creativity: 4\n",
      "education;creativity: 3\n",
      "education;brain games: 3\n",
      "entertainment;creativity: 3\n",
      "simulation;pretend play: 3\n",
      "entertainment;action & adventure: 3\n",
      "art & design;pretend play: 2\n",
      "art & design;action & adventure: 2\n",
      "casual;education: 2\n",
      "puzzle;creativity: 2\n",
      "sports;action & adventure: 2\n",
      "educational;action & adventure: 2\n",
      "adventure;education: 2\n",
      "board;action & adventure: 2\n",
      "entertainment;pretend play: 2\n",
      "video players & editors;creativity: 2\n",
      "video players & editors;music & video: 2\n",
      "educational;creativity: 2\n",
      "comics;creativity: 1\n",
      "lifestyle;pretend play: 1\n",
      "entertainment;education: 1\n",
      "music;music & video: 1\n",
      "arcade;pretend play: 1\n",
      "music & audio;music & video: 1\n",
      "health & fitness;education: 1\n",
      "casual;music & video: 1\n",
      "travel & local;action & adventure: 1\n",
      "tools;education: 1\n",
      "parenting;brain games: 1\n",
      "health & fitness;action & adventure: 1\n",
      "trivia;education: 1\n",
      "lifestyle;education: 1\n",
      "card;action & adventure: 1\n",
      "books & reference;education: 1\n",
      "simulation;education: 1\n",
      "puzzle;education: 1\n",
      "role playing;brain games: 1\n",
      "strategy;education: 1\n",
      "racing;pretend play: 1\n",
      "communication;creativity: 1\n",
      "strategy;creativity: 1\n",
      "---------------\n",
      "tools: 8.4056338028169\n",
      "entertainment: 6.095774647887324\n",
      "education: 5.329577464788732\n",
      "business: 4.574647887323944\n",
      "productivity: 3.876056338028169\n",
      "lifestyle: 3.8647887323943664\n",
      "finance: 3.7408450704225356\n",
      "sports: 3.5042253521126763\n",
      "medical: 3.470422535211268\n",
      "personalization: 3.3126760563380286\n",
      "communication: 3.2901408450704226\n",
      "action: 3.2\n",
      "health & fitness: 2.9971830985915493\n",
      "photography: 2.9746478873239437\n",
      "news & magazines: 2.8056338028169012\n",
      "social: 2.7267605633802816\n",
      "travel & local: 2.2985915492957747\n",
      "shopping: 2.1859154929577467\n",
      "books & reference: 2.1521126760563383\n",
      "simulation: 1.9943661971830986\n",
      "dating: 1.8253521126760561\n",
      "casual: 1.8140845070422535\n",
      "arcade: 1.7915492957746477\n",
      "video players & editors: 1.7802816901408451\n",
      "maps & navigation: 1.3859154929577466\n",
      "food & drink: 1.2845070422535212\n",
      "puzzle: 1.1267605633802817\n",
      "racing: 1.0140845070422535\n",
      "role playing: 0.9690140845070423\n",
      "auto & vehicles: 0.923943661971831\n",
      "libraries & demo: 0.923943661971831\n",
      "strategy: 0.9014084507042254\n",
      "house & home: 0.8450704225352111\n",
      "weather: 0.8112676056338028\n",
      "adventure: 0.6535211267605634\n",
      "events: 0.6197183098591549\n",
      "comics: 0.6084507042253521\n",
      "beauty: 0.5971830985915494\n",
      "art & design: 0.5633802816901409\n",
      "parenting: 0.49577464788732395\n",
      "card: 0.4507042253521127\n",
      "casino: 0.428169014084507\n",
      "trivia: 0.4169014084507042\n",
      "board: 0.38309859154929576\n",
      "educational: 0.37183098591549296\n",
      "educational;education: 0.36056338028169016\n",
      "education;education: 0.3267605633802817\n",
      "word: 0.2591549295774648\n",
      "casual;pretend play: 0.23661971830985915\n",
      "entertainment;music & video: 0.2140845070422535\n",
      "music: 0.2140845070422535\n",
      "racing;action & adventure: 0.19154929577464788\n",
      "puzzle;brain games: 0.16901408450704225\n",
      "casual;action & adventure: 0.15774647887323942\n",
      "casual;brain games: 0.12394366197183099\n",
      "arcade;action & adventure: 0.12394366197183099\n",
      "action;action & adventure: 0.11267605633802817\n",
      "simulation;action & adventure: 0.09014084507042254\n",
      "educational;pretend play: 0.09014084507042254\n",
      "board;brain games: 0.09014084507042254\n",
      "art & design;creativity: 0.07887323943661971\n",
      "entertainment;brain games: 0.07887323943661971\n",
      "parenting;education: 0.07887323943661971\n",
      "adventure;action & adventure: 0.0676056338028169\n",
      "educational;brain games: 0.0676056338028169\n",
      "parenting;music & video: 0.0676056338028169\n",
      "education;music & video: 0.04507042253521127\n",
      "education;action & adventure: 0.04507042253521127\n",
      "education;pretend play: 0.04507042253521127\n",
      "role playing;action & adventure: 0.04507042253521127\n",
      "puzzle;action & adventure: 0.04507042253521127\n",
      "role playing;pretend play: 0.04507042253521127\n",
      "casual;creativity: 0.04507042253521127\n",
      "education;creativity: 0.03380281690140845\n",
      "education;brain games: 0.03380281690140845\n",
      "entertainment;creativity: 0.03380281690140845\n",
      "simulation;pretend play: 0.03380281690140845\n",
      "entertainment;action & adventure: 0.03380281690140845\n",
      "art & design;pretend play: 0.022535211267605635\n",
      "art & design;action & adventure: 0.022535211267605635\n",
      "casual;education: 0.022535211267605635\n",
      "puzzle;creativity: 0.022535211267605635\n",
      "sports;action & adventure: 0.022535211267605635\n",
      "educational;action & adventure: 0.022535211267605635\n",
      "adventure;education: 0.022535211267605635\n",
      "board;action & adventure: 0.022535211267605635\n",
      "entertainment;pretend play: 0.022535211267605635\n",
      "video players & editors;creativity: 0.022535211267605635\n",
      "video players & editors;music & video: 0.022535211267605635\n",
      "educational;creativity: 0.022535211267605635\n",
      "comics;creativity: 0.011267605633802818\n",
      "lifestyle;pretend play: 0.011267605633802818\n",
      "entertainment;education: 0.011267605633802818\n",
      "music;music & video: 0.011267605633802818\n",
      "arcade;pretend play: 0.011267605633802818\n",
      "music & audio;music & video: 0.011267605633802818\n",
      "health & fitness;education: 0.011267605633802818\n",
      "casual;music & video: 0.011267605633802818\n",
      "travel & local;action & adventure: 0.011267605633802818\n",
      "tools;education: 0.011267605633802818\n",
      "parenting;brain games: 0.011267605633802818\n",
      "health & fitness;action & adventure: 0.011267605633802818\n",
      "trivia;education: 0.011267605633802818\n",
      "lifestyle;education: 0.011267605633802818\n",
      "card;action & adventure: 0.011267605633802818\n",
      "books & reference;education: 0.011267605633802818\n",
      "simulation;education: 0.011267605633802818\n",
      "puzzle;education: 0.011267605633802818\n",
      "role playing;brain games: 0.011267605633802818\n",
      "strategy;education: 0.011267605633802818\n",
      "racing;pretend play: 0.011267605633802818\n",
      "communication;creativity: 0.011267605633802818\n",
      "strategy;creativity: 0.011267605633802818\n",
      "\n",
      "\n",
      "\n"
     ]
    }
   ],
   "source": [
    "# Display all data + percentages\n",
    "def display_data(data,dataset):\n",
    "    print(len(dataset))\n",
    "    for elem in data:\n",
    "        print(elem[0] + ': ' + str(elem[1]))\n",
    "    print(\"---------------\")\n",
    "    for elem in data:\n",
    "        print(elem[0] + ': '+ str((elem[1]/len(dataset))*100))\n",
    "        \n",
    "    print('\\n\\n')\n",
    "    \n",
    "print(len(ios_sorted))\n",
    "display_data(android_sorted, android_clean)\n",
    "display_data(ios_sorted, ios_clean)\n",
    "display_data(android_genre_sorted, android_clean)"
   ]
  },
  {
   "cell_type": "markdown",
   "id": "1df95afa",
   "metadata": {},
   "source": [
    "### Most used apps per genre"
   ]
  },
  {
   "cell_type": "code",
   "execution_count": 17,
   "id": "7edd0437",
   "metadata": {},
   "outputs": [],
   "source": [
    "# ios_categories_length = {} Total ratings per category\n",
    "# ios_sorted = {} Total occurrences per category"
   ]
  },
  {
   "cell_type": "code",
   "execution_count": 18,
   "id": "53c1a437",
   "metadata": {
    "scrolled": true
   },
   "outputs": [
    {
     "name": "stdout",
     "output_type": "stream",
     "text": [
      "{'social networking': 7584125.0, 'photo & video': 4550647.0, 'games': 42705967.0, 'music': 3783551.0, 'reference': 1348958.0, 'health & fitness': 1514371.0, 'weather': 1463837.0, 'utilities': 1513441.0, 'travel': 1129752.0, 'shopping': 2261254.0, 'news': 913665.0, 'navigation': 516542.0, 'lifestyle': 840774.0, 'entertainment': 3563577.0, 'food & drink': 866682.0, 'sports': 1587614.0, 'book': 556619.0, 'finance': 1132846.0, 'education': 826470.0, 'productivity': 1177591.0, 'business': 127349.0, 'catalogs': 16016.0, 'medical': 3672.0}\n",
      "{'social networking': 106, 'photo & video': 160, 'games': 1874, 'music': 66, 'reference': 18, 'health & fitness': 65, 'weather': 28, 'utilities': 81, 'travel': 40, 'shopping': 84, 'news': 43, 'navigation': 6, 'lifestyle': 51, 'entertainment': 254, 'food & drink': 26, 'sports': 69, 'book': 14, 'finance': 36, 'education': 118, 'productivity': 56, 'business': 17, 'catalogs': 4, 'medical': 6}\n"
     ]
    }
   ],
   "source": [
    "print(ios_categories_length)\n",
    "print(ios_categories)"
   ]
  },
  {
   "cell_type": "code",
   "execution_count": 19,
   "id": "64f54e37",
   "metadata": {},
   "outputs": [
    {
     "name": "stdout",
     "output_type": "stream",
     "text": [
      "{'art_and_design': 108811100.0, 'auto_and_vehicles': 53080061.0, 'beauty': 27197050.0, 'books_and_reference': 795784260.0, 'business': 691802090.0, 'comics': 54975150.0, 'communication': 15080896201.0, 'dating': 157549757.0, 'education': 422340000.0, 'entertainment': 2086160000.0, 'events': 13571660.0, 'finance': 729163132.0, 'food_and_drink': 235538751.0, 'health_and_fitness': 1223248402.0, 'house_and_home': 112212461.0, 'libraries_and_demo': 62894810.0, 'lifestyle': 482484429.0, 'game': 19244369450.0, 'family': 6566695690.0, 'medical': 30272344.0, 'social': 4647761902.0, 'shopping': 1611838585.0, 'photography': 6155268815.0, 'sports': 1172080683.0, 'travel_and_local': 3030604086.0, 'tools': 8158443474.0, 'personalization': 1538235888.0, 'productivity': 8005629314.0, 'parenting': 31471010.0, 'weather': 365288520.0, 'video_players': 4530731720.0, 'news_and_magazines': 4848196260.0, 'maps_and_navigation': 502960780.0}\n",
      "{'art_and_design': 57, 'auto_and_vehicles': 82, 'beauty': 53, 'books_and_reference': 191, 'business': 406, 'comics': 55, 'communication': 292, 'dating': 162, 'education': 105, 'entertainment': 91, 'events': 55, 'finance': 332, 'food_and_drink': 114, 'health_and_fitness': 266, 'house_and_home': 75, 'libraries_and_demo': 82, 'lifestyle': 344, 'game': 878, 'family': 1673, 'medical': 308, 'social': 242, 'shopping': 194, 'photography': 264, 'sports': 302, 'travel_and_local': 205, 'tools': 747, 'personalization': 294, 'productivity': 344, 'parenting': 58, 'weather': 72, 'video_players': 160, 'news_and_magazines': 249, 'maps_and_navigation': 123}\n"
     ]
    }
   ],
   "source": [
    "print(android_categories_length)\n",
    "print(android_categories)"
   ]
  },
  {
   "cell_type": "code",
   "execution_count": 20,
   "id": "9f22528f",
   "metadata": {},
   "outputs": [],
   "source": [
    "def ratio_data(categories, categories_length):\n",
    "    for genre in categories:\n",
    "        ratio = categories_length[genre] / categories[genre]\n",
    "        print(genre + ': ' + str(ratio))"
   ]
  },
  {
   "cell_type": "code",
   "execution_count": 21,
   "id": "6544cbf8",
   "metadata": {},
   "outputs": [
    {
     "name": "stdout",
     "output_type": "stream",
     "text": [
      "social networking: 71548.34905660378\n",
      "photo & video: 28441.54375\n",
      "games: 22788.6696905016\n",
      "music: 57326.530303030304\n",
      "reference: 74942.11111111111\n",
      "health & fitness: 23298.015384615384\n",
      "weather: 52279.892857142855\n",
      "utilities: 18684.456790123455\n",
      "travel: 28243.8\n",
      "shopping: 26919.690476190477\n",
      "news: 21248.023255813954\n",
      "navigation: 86090.33333333333\n",
      "lifestyle: 16485.764705882353\n",
      "entertainment: 14029.830708661417\n",
      "food & drink: 33333.92307692308\n",
      "sports: 23008.898550724636\n",
      "book: 39758.5\n",
      "finance: 31467.944444444445\n",
      "education: 7003.983050847458\n",
      "productivity: 21028.410714285714\n",
      "business: 7491.117647058823\n",
      "catalogs: 4004.0\n",
      "medical: 612.0\n",
      "None\n",
      "\n",
      "\n",
      "art_and_design: 1908966.6666666667\n",
      "auto_and_vehicles: 647317.8170731707\n",
      "beauty: 513151.88679245283\n",
      "books_and_reference: 4166409.7382198954\n",
      "business: 1703946.0344827587\n",
      "comics: 999548.1818181818\n",
      "communication: 51646904.79794521\n",
      "dating: 972529.3641975309\n",
      "education: 4022285.714285714\n",
      "entertainment: 22924835.164835166\n",
      "events: 246757.45454545456\n",
      "finance: 2196274.493975904\n",
      "food_and_drink: 2066129.394736842\n",
      "health_and_fitness: 4598678.203007519\n",
      "house_and_home: 1496166.1466666667\n",
      "libraries_and_demo: 767009.8780487805\n",
      "lifestyle: 1402571.0145348837\n",
      "game: 21918416.230068337\n",
      "family: 3925102.0263000596\n",
      "medical: 98286.83116883117\n",
      "social: 19205627.694214877\n",
      "shopping: 8308446.31443299\n",
      "photography: 23315412.178030305\n",
      "sports: 3881061.8642384107\n",
      "travel_and_local: 14783434.565853659\n",
      "tools: 10921611.076305222\n",
      "personalization: 5232094.857142857\n",
      "productivity: 23272178.23837209\n",
      "parenting: 542603.6206896552\n",
      "weather: 5073451.666666667\n",
      "video_players: 28317073.25\n",
      "news_and_magazines: 19470667.710843373\n",
      "maps_and_navigation: 4089112.0325203254\n",
      "None\n"
     ]
    }
   ],
   "source": [
    "print(ratio_data(ios_categories, ios_categories_length))\n",
    "print('\\n')\n",
    "print(ratio_data(android_categories, android_categories_length))"
   ]
  }
 ],
 "metadata": {
  "hide_input": false,
  "kernelspec": {
   "display_name": "Python 3 (ipykernel)",
   "language": "python",
   "name": "python3"
  },
  "language_info": {
   "codemirror_mode": {
    "name": "ipython",
    "version": 3
   },
   "file_extension": ".py",
   "mimetype": "text/x-python",
   "name": "python",
   "nbconvert_exporter": "python",
   "pygments_lexer": "ipython3",
   "version": "3.9.7"
  }
 },
 "nbformat": 4,
 "nbformat_minor": 5
}
